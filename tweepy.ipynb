{
  "nbformat": 4,
  "nbformat_minor": 0,
  "metadata": {
    "colab": {
      "name": "tweepy.ipynb",
      "version": "0.3.2",
      "provenance": [],
      "include_colab_link": true
    },
    "kernelspec": {
      "name": "python3",
      "display_name": "Python 3"
    }
  },
  "cells": [
    {
      "cell_type": "markdown",
      "metadata": {
        "id": "view-in-github",
        "colab_type": "text"
      },
      "source": [
        "<a href=\"https://colab.research.google.com/github/tiwars10/Analytics/blob/master/tweepy.ipynb\" target=\"_parent\"><img src=\"https://colab.research.google.com/assets/colab-badge.svg\" alt=\"Open In Colab\"/></a>"
      ]
    },
    {
      "cell_type": "code",
      "metadata": {
        "id": "0jwwPWNADEUb",
        "colab_type": "code",
        "colab": {}
      },
      "source": [
        "from IPython.core.interactiveshell import InteractiveShell\n",
        "InteractiveShell.ast_node_interactivity = \"all\""
      ],
      "execution_count": 0,
      "outputs": []
    },
    {
      "cell_type": "code",
      "metadata": {
        "id": "E3UjDln8DQ0C",
        "colab_type": "code",
        "outputId": "0658efb4-ea4f-4c4b-b4fa-94739e1d089a",
        "colab": {
          "base_uri": "https://localhost:8080/",
          "height": 100
        }
      },
      "source": [
        "import numpy as np\n",
        "import pandas as pd\n",
        "import tweepy as tw\n",
        "import re\n",
        "import nltk\n",
        "nltk.download('stopwords')\n",
        "nltk.download('wordnet')\n",
        "from nltk.corpus import stopwords\n",
        "from nltk.stem.porter import PorterStemmer\n",
        "from nltk.stem import WordNetLemmatizer\n",
        "import matplotlib.pyplot as plt\n",
        "import seaborn as sns\n",
        "import itertools\n",
        "import collections\n",
        "from textblob import TextBlob"
      ],
      "execution_count": 0,
      "outputs": [
        {
          "output_type": "stream",
          "text": [
            "[nltk_data] Downloading package stopwords to /root/nltk_data...\n",
            "[nltk_data]   Package stopwords is already up-to-date!\n"
          ],
          "name": "stdout"
        },
        {
          "output_type": "execute_result",
          "data": {
            "text/plain": [
              "True"
            ]
          },
          "metadata": {
            "tags": []
          },
          "execution_count": 7
        },
        {
          "output_type": "stream",
          "text": [
            "[nltk_data] Downloading package wordnet to /root/nltk_data...\n",
            "[nltk_data]   Package wordnet is already up-to-date!\n"
          ],
          "name": "stdout"
        },
        {
          "output_type": "execute_result",
          "data": {
            "text/plain": [
              "True"
            ]
          },
          "metadata": {
            "tags": []
          },
          "execution_count": 7
        }
      ]
    },
    {
      "cell_type": "code",
      "metadata": {
        "id": "97eWT2FUDQ1u",
        "colab_type": "code",
        "outputId": "8c5d75ec-7449-4538-9533-8347ef78c108",
        "colab": {
          "base_uri": "https://localhost:8080/",
          "height": 196
        }
      },
      "source": [
        "df=pd.read_csv('tweets.csv')\n",
        "df.head(5)"
      ],
      "execution_count": 0,
      "outputs": [
        {
          "output_type": "execute_result",
          "data": {
            "text/html": [
              "<div>\n",
              "<style scoped>\n",
              "    .dataframe tbody tr th:only-of-type {\n",
              "        vertical-align: middle;\n",
              "    }\n",
              "\n",
              "    .dataframe tbody tr th {\n",
              "        vertical-align: top;\n",
              "    }\n",
              "\n",
              "    .dataframe thead th {\n",
              "        text-align: right;\n",
              "    }\n",
              "</style>\n",
              "<table border=\"1\" class=\"dataframe\">\n",
              "  <thead>\n",
              "    <tr style=\"text-align: right;\">\n",
              "      <th></th>\n",
              "      <th>Unnamed: 0</th>\n",
              "      <th>Tweets</th>\n",
              "    </tr>\n",
              "  </thead>\n",
              "  <tbody>\n",
              "    <tr>\n",
              "      <th>0</th>\n",
              "      <td>0</td>\n",
              "      <td>'PM @narendramodi will create more efficiency ...</td>\n",
              "    </tr>\n",
              "    <tr>\n",
              "      <th>1</th>\n",
              "      <td>1</td>\n",
              "      <td>The central government had no outstanding #loa...</td>\n",
              "    </tr>\n",
              "    <tr>\n",
              "      <th>2</th>\n",
              "      <td>2</td>\n",
              "      <td>Why Modi government 2.0 might have to change i...</td>\n",
              "    </tr>\n",
              "    <tr>\n",
              "      <th>3</th>\n",
              "      <td>3</td>\n",
              "      <td>@BhavikaKapoor5 Whenever and wherever the gove...</td>\n",
              "    </tr>\n",
              "    <tr>\n",
              "      <th>4</th>\n",
              "      <td>4</td>\n",
              "      <td>India’s growth rate ‘much weaker than expected...</td>\n",
              "    </tr>\n",
              "  </tbody>\n",
              "</table>\n",
              "</div>"
            ],
            "text/plain": [
              "   Unnamed: 0                                             Tweets\n",
              "0           0  'PM @narendramodi will create more efficiency ...\n",
              "1           1  The central government had no outstanding #loa...\n",
              "2           2  Why Modi government 2.0 might have to change i...\n",
              "3           3  @BhavikaKapoor5 Whenever and wherever the gove...\n",
              "4           4  India’s growth rate ‘much weaker than expected..."
            ]
          },
          "metadata": {
            "tags": []
          },
          "execution_count": 9
        }
      ]
    },
    {
      "cell_type": "code",
      "metadata": {
        "id": "7qVi9-VTNyL6",
        "colab_type": "code",
        "colab": {}
      },
      "source": [
        "tweets_text=df.Tweets"
      ],
      "execution_count": 0,
      "outputs": []
    },
    {
      "cell_type": "code",
      "metadata": {
        "id": "6yMV0DenOK1K",
        "colab_type": "code",
        "colab": {
          "base_uri": "https://localhost:8080/",
          "height": 117
        },
        "outputId": "7d765d78-0464-408b-8ae1-b58cd31b4e88"
      },
      "source": [
        "tweets_text[0:5]"
      ],
      "execution_count": 31,
      "outputs": [
        {
          "output_type": "execute_result",
          "data": {
            "text/plain": [
              "0    'PM @narendramodi will create more efficiency ...\n",
              "1    The central government had no outstanding #loa...\n",
              "2    Why Modi government 2.0 might have to change i...\n",
              "3    @BhavikaKapoor5 Whenever and wherever the gove...\n",
              "4    India’s growth rate ‘much weaker than expected...\n",
              "Name: Tweets, dtype: object"
            ]
          },
          "metadata": {
            "tags": []
          },
          "execution_count": 31
        }
      ]
    },
    {
      "cell_type": "code",
      "metadata": {
        "id": "z7HvJHKADQ4q",
        "colab_type": "code",
        "colab": {}
      },
      "source": [
        "corpus=[]"
      ],
      "execution_count": 0,
      "outputs": []
    },
    {
      "cell_type": "code",
      "metadata": {
        "id": "9wEdZYTnDQ6_",
        "colab_type": "code",
        "colab": {}
      },
      "source": [
        "ps=PorterStemmer()"
      ],
      "execution_count": 0,
      "outputs": []
    },
    {
      "cell_type": "code",
      "metadata": {
        "id": "0tJv2UPvJ2A1",
        "colab_type": "code",
        "colab": {}
      },
      "source": [
        "stop_words=set(stopwords.words('english'))"
      ],
      "execution_count": 0,
      "outputs": []
    },
    {
      "cell_type": "code",
      "metadata": {
        "id": "R4_0lzdaQ65M",
        "colab_type": "code",
        "colab": {}
      },
      "source": [
        "for i in range (0,1000):\n",
        "  tweets_text_cln = re.sub(\"(@[A-Za-z0-9]+0)|([^0-9A-Za-z\\t])|(\\w+:\\/\\/\\S+)|[0-9]\",' ',tweets_text[i])\n",
        "  tweets_text_cln=tweets_text_cln.lower()\n",
        "  tweets_text_cln=tweets_text_cln.split()\n",
        "  tweets_text_cln=[x for x in tweets_text_cln if not x in stop_words]\n",
        "  tweets_text_cln=\" \".join(tweets_text_cln)\n",
        "  corpus.append(tweets_text_cln)"
      ],
      "execution_count": 0,
      "outputs": []
    },
    {
      "cell_type": "code",
      "metadata": {
        "id": "Q2BLPc4lRCvH",
        "colab_type": "code",
        "colab": {
          "base_uri": "https://localhost:8080/",
          "height": 100
        },
        "outputId": "229f658e-0d2b-4de9-da34-9620f0012edd"
      },
      "source": [
        "corpus[0:5]"
      ],
      "execution_count": 56,
      "outputs": [
        {
          "output_type": "execute_result",
          "data": {
            "text/plain": [
              "['pm narendramodi create efficiency economy markmobiusreal',\n",
              " 'central government outstanding loans week earlier well',\n",
              " 'modi government might change political economy script via httweets',\n",
              " 'bhavikakapoor whenever wherever government start depending corrupt businessmen overall health',\n",
              " 'india growth rate much weaker expected imf imf internationalmonetaryfund imfnews imfspokesperson']"
            ]
          },
          "metadata": {
            "tags": []
          },
          "execution_count": 56
        }
      ]
    },
    {
      "cell_type": "code",
      "metadata": {
        "id": "RU9opo8sJ2Iq",
        "colab_type": "code",
        "colab": {}
      },
      "source": [
        "bagofwords=[]\n",
        "for i in range(0,1000):\n",
        "  words=corpus[i].split()\n",
        "  bagofwords.append(words)"
      ],
      "execution_count": 0,
      "outputs": []
    },
    {
      "cell_type": "code",
      "metadata": {
        "id": "gYiGhOs-J2LI",
        "colab_type": "code",
        "colab": {
          "base_uri": "https://localhost:8080/",
          "height": 33
        },
        "outputId": "29778595-7407-45cf-e00e-30d612daf23a"
      },
      "source": [
        "bagofwords[0]"
      ],
      "execution_count": 58,
      "outputs": [
        {
          "output_type": "execute_result",
          "data": {
            "text/plain": [
              "['pm', 'narendramodi', 'create', 'efficiency', 'economy', 'markmobiusreal']"
            ]
          },
          "metadata": {
            "tags": []
          },
          "execution_count": 58
        }
      ]
    },
    {
      "cell_type": "code",
      "metadata": {
        "id": "2oTwrXbdJ2OZ",
        "colab_type": "code",
        "colab": {
          "base_uri": "https://localhost:8080/",
          "height": 418
        },
        "outputId": "067bf6d9-f3c1-4a6a-f749-d22e5c089dcf"
      },
      "source": [
        "all_words=list(itertools.chain(*bagofwords))\n",
        "print(all_words[0:10])\n",
        "print()\n",
        "print(\"Most Commonly Occuring words and frequency\\n\")\n",
        "words_freq=collections.Counter(all_words)\n",
        "words_freq.most_common(20)"
      ],
      "execution_count": 59,
      "outputs": [
        {
          "output_type": "stream",
          "text": [
            "['pm', 'narendramodi', 'create', 'efficiency', 'economy', 'markmobiusreal', 'central', 'government', 'outstanding', 'loans']\n",
            "\n",
            "Most Commonly Occuring words and frequency\n",
            "\n"
          ],
          "name": "stdout"
        },
        {
          "output_type": "execute_result",
          "data": {
            "text/plain": [
              "[('india', 596),\n",
              " ('economy', 428),\n",
              " ('indian', 68),\n",
              " ('modi', 66),\n",
              " ('growth', 61),\n",
              " ('amp', 61),\n",
              " ('much', 48),\n",
              " ('economic', 48),\n",
              " ('trillion', 46),\n",
              " ('pakistan', 45),\n",
              " ('narendramodi', 43),\n",
              " ('imf', 40),\n",
              " ('world', 38),\n",
              " ('govt', 38),\n",
              " ('government', 37),\n",
              " ('via', 37),\n",
              " ('nsitharaman', 37),\n",
              " ('expected', 36),\n",
              " ('people', 36),\n",
              " ('one', 36)]"
            ]
          },
          "metadata": {
            "tags": []
          },
          "execution_count": 59
        }
      ]
    },
    {
      "cell_type": "code",
      "metadata": {
        "id": "t6fJqjiZSiRH",
        "colab_type": "code",
        "colab": {}
      },
      "source": [
        "words_to_remove=['india', 'economy','indian','much','amp']\n",
        "bagofwords_new=[[x for x in  word if not  x in words_to_remove] for word in bagofwords]"
      ],
      "execution_count": 0,
      "outputs": []
    },
    {
      "cell_type": "code",
      "metadata": {
        "id": "oAXPjKBNSiMx",
        "colab_type": "code",
        "colab": {
          "base_uri": "https://localhost:8080/",
          "height": 418
        },
        "outputId": "47d3ddba-8c30-4418-b231-82631d202561"
      },
      "source": [
        "all_words=list(itertools.chain(*bagofwords_new))\n",
        "print(all_words[0:10])\n",
        "print()\n",
        "print(\"Most Commonly Occuring words and frequency\\n\")\n",
        "words_freq=collections.Counter(all_words)\n",
        "words_freq.most_common(20)"
      ],
      "execution_count": 61,
      "outputs": [
        {
          "output_type": "stream",
          "text": [
            "['pm', 'narendramodi', 'create', 'efficiency', 'markmobiusreal', 'central', 'government', 'outstanding', 'loans', 'week']\n",
            "\n",
            "Most Commonly Occuring words and frequency\n",
            "\n"
          ],
          "name": "stdout"
        },
        {
          "output_type": "execute_result",
          "data": {
            "text/plain": [
              "[('modi', 66),\n",
              " ('growth', 61),\n",
              " ('economic', 48),\n",
              " ('trillion', 46),\n",
              " ('pakistan', 45),\n",
              " ('narendramodi', 43),\n",
              " ('imf', 40),\n",
              " ('world', 38),\n",
              " ('govt', 38),\n",
              " ('government', 37),\n",
              " ('via', 37),\n",
              " ('nsitharaman', 37),\n",
              " ('expected', 36),\n",
              " ('people', 36),\n",
              " ('one', 36),\n",
              " ('billion', 34),\n",
              " ('minister', 33),\n",
              " ('weaker', 32),\n",
              " ('gdp', 32),\n",
              " ('slowdown', 31)]"
            ]
          },
          "metadata": {
            "tags": []
          },
          "execution_count": 61
        }
      ]
    },
    {
      "cell_type": "code",
      "metadata": {
        "id": "bFUDgC9eSiKS",
        "colab_type": "code",
        "colab": {
          "base_uri": "https://localhost:8080/",
          "height": 196
        },
        "outputId": "d66aae7d-eb81-4382-e341-4489490ad1b5"
      },
      "source": [
        "freq_word_df=pd.DataFrame(words_freq.most_common(20),columns=['Words','Freq'])\n",
        "freq_word_df.head()"
      ],
      "execution_count": 64,
      "outputs": [
        {
          "output_type": "execute_result",
          "data": {
            "text/html": [
              "<div>\n",
              "<style scoped>\n",
              "    .dataframe tbody tr th:only-of-type {\n",
              "        vertical-align: middle;\n",
              "    }\n",
              "\n",
              "    .dataframe tbody tr th {\n",
              "        vertical-align: top;\n",
              "    }\n",
              "\n",
              "    .dataframe thead th {\n",
              "        text-align: right;\n",
              "    }\n",
              "</style>\n",
              "<table border=\"1\" class=\"dataframe\">\n",
              "  <thead>\n",
              "    <tr style=\"text-align: right;\">\n",
              "      <th></th>\n",
              "      <th>Words</th>\n",
              "      <th>Freq</th>\n",
              "    </tr>\n",
              "  </thead>\n",
              "  <tbody>\n",
              "    <tr>\n",
              "      <th>0</th>\n",
              "      <td>modi</td>\n",
              "      <td>66</td>\n",
              "    </tr>\n",
              "    <tr>\n",
              "      <th>1</th>\n",
              "      <td>growth</td>\n",
              "      <td>61</td>\n",
              "    </tr>\n",
              "    <tr>\n",
              "      <th>2</th>\n",
              "      <td>economic</td>\n",
              "      <td>48</td>\n",
              "    </tr>\n",
              "    <tr>\n",
              "      <th>3</th>\n",
              "      <td>trillion</td>\n",
              "      <td>46</td>\n",
              "    </tr>\n",
              "    <tr>\n",
              "      <th>4</th>\n",
              "      <td>pakistan</td>\n",
              "      <td>45</td>\n",
              "    </tr>\n",
              "  </tbody>\n",
              "</table>\n",
              "</div>"
            ],
            "text/plain": [
              "      Words  Freq\n",
              "0      modi    66\n",
              "1    growth    61\n",
              "2  economic    48\n",
              "3  trillion    46\n",
              "4  pakistan    45"
            ]
          },
          "metadata": {
            "tags": []
          },
          "execution_count": 64
        }
      ]
    },
    {
      "cell_type": "code",
      "metadata": {
        "id": "3HjphFDIUkCW",
        "colab_type": "code",
        "colab": {
          "base_uri": "https://localhost:8080/",
          "height": 595
        },
        "outputId": "2d3d785d-8ace-487a-a8fc-001555a5dacc"
      },
      "source": [
        "fig,ax=plt.subplots(figsize=(15,10))\n",
        "freq_word_df.sort_values(by='Freq').plot.barh(x='Words',y='Freq',ax=ax, color='green')\n",
        "plt.show();"
      ],
      "execution_count": 65,
      "outputs": [
        {
          "output_type": "display_data",
          "data": {
            "image/png": "[encoded data removed]",
            "text/plain": [
              "<Figure size 1080x720 with 1 Axes>"
            ]
          },
          "metadata": {
            "tags": []
          }
        }
      ]
    },
    {
      "cell_type": "code",
      "metadata": {
        "id": "ObRiJyWOUj_L",
        "colab_type": "code",
        "colab": {}
      },
      "source": [
        "from wordcloud import WordCloud, STOPWORDS\n",
        "import matplotlib.pyplot as plt\n",
        "word_string=\" \".join(freq_word_df.Words)\n",
        "wordcloud = WordCloud(#stopwords=STOPWORDS, \n",
        "                      background_color='black',\n",
        "                       max_words=20\n",
        "                       ).generate(word_string)"
      ],
      "execution_count": 0,
      "outputs": []
    },
    {
      "cell_type": "code",
      "metadata": {
        "id": "saKof6uxUj8E",
        "colab_type": "code",
        "colab": {
          "base_uri": "https://localhost:8080/",
          "height": 486
        },
        "outputId": "d9e01c40-ffcf-4fb3-d036-d314dd98e12f"
      },
      "source": [
        "plt.figure(figsize=(15,10))\n",
        "plt.clf()\n",
        "plt.imshow(wordcloud)\n",
        "plt.axis('off')\n",
        "plt.show()"
      ],
      "execution_count": 79,
      "outputs": [
        {
          "output_type": "execute_result",
          "data": {
            "text/plain": [
              "<Figure size 1080x720 with 0 Axes>"
            ]
          },
          "metadata": {
            "tags": []
          },
          "execution_count": 79
        },
        {
          "output_type": "execute_result",
          "data": {
            "text/plain": [
              "<matplotlib.image.AxesImage at 0x7f8ad62ee080>"
            ]
          },
          "metadata": {
            "tags": []
          },
          "execution_count": 79
        },
        {
          "output_type": "execute_result",
          "data": {
            "text/plain": [
              "(-0.5, 399.5, 199.5, -0.5)"
            ]
          },
          "metadata": {
            "tags": []
          },
          "execution_count": 79
        },
        {
          "output_type": "display_data",
          "data": {
            "image/png": "[encoded data removed]",
            "text/plain": [
              "<Figure size 1080x720 with 1 Axes>"
            ]
          },
          "metadata": {
            "tags": []
          }
        }
      ]
    },
    {
      "cell_type": "code",
      "metadata": {
        "id": "zvIC_vILXld4",
        "colab_type": "code",
        "colab": {
          "base_uri": "https://localhost:8080/",
          "height": 1000
        },
        "outputId": "87a48b6e-5870-4ae0-f5f9-07059880d94e"
      },
      "source": [
        "sentiment_text=[TextBlob(tweet) for tweet in corpus]\n",
        "print(sentiment_text[0].polarity)\n",
        "print(sentiment_text[0])\n",
        "\n",
        "sentiments = [[tweet.sentiment.polarity, str(tweet)] for tweet in sentiment_text]\n",
        "sentiment_df = pd.DataFrame(sentiments, columns=[\"Polarity\", \"Tweet_Text\"])\n",
        "sentiment_df.sort_values(by='Polarity', ascending=False)"
      ],
      "execution_count": 80,
      "outputs": [
        {
          "output_type": "stream",
          "text": [
            "0.0\n",
            "pm narendramodi create efficiency economy markmobiusreal\n"
          ],
          "name": "stdout"
        },
        {
          "output_type": "execute_result",
          "data": {
            "text/html": [
              "<div>\n",
              "<style scoped>\n",
              "    .dataframe tbody tr th:only-of-type {\n",
              "        vertical-align: middle;\n",
              "    }\n",
              "\n",
              "    .dataframe tbody tr th {\n",
              "        vertical-align: top;\n",
              "    }\n",
              "\n",
              "    .dataframe thead th {\n",
              "        text-align: right;\n",
              "    }\n",
              "</style>\n",
              "<table border=\"1\" class=\"dataframe\">\n",
              "  <thead>\n",
              "    <tr style=\"text-align: right;\">\n",
              "      <th></th>\n",
              "      <th>Polarity</th>\n",
              "      <th>Tweet_Text</th>\n",
              "    </tr>\n",
              "  </thead>\n",
              "  <tbody>\n",
              "    <tr>\n",
              "      <th>941</th>\n",
              "      <td>1.000000</td>\n",
              "      <td>itc best company india going economy india fin...</td>\n",
              "    </tr>\n",
              "    <tr>\n",
              "      <th>424</th>\n",
              "      <td>1.000000</td>\n",
              "      <td>nandtara best please vote bjp coming election ...</td>\n",
              "    </tr>\n",
              "    <tr>\n",
              "      <th>993</th>\n",
              "      <td>1.000000</td>\n",
              "      <td>thinking india economy rising excellent</td>\n",
              "    </tr>\n",
              "    <tr>\n",
              "      <th>131</th>\n",
              "      <td>1.000000</td>\n",
              "      <td>even indian gdp grows cagr would awesome india...</td>\n",
              "    </tr>\n",
              "    <tr>\n",
              "      <th>321</th>\n",
              "      <td>1.000000</td>\n",
              "      <td>feeling concerned economy government india try...</td>\n",
              "    </tr>\n",
              "    <tr>\n",
              "      <th>56</th>\n",
              "      <td>0.933333</td>\n",
              "      <td>rsprasad india must determine best economy bil...</td>\n",
              "    </tr>\n",
              "    <tr>\n",
              "      <th>54</th>\n",
              "      <td>0.900000</td>\n",
              "      <td>piyushgoyal narendramodi india must determine ...</td>\n",
              "    </tr>\n",
              "    <tr>\n",
              "      <th>513</th>\n",
              "      <td>0.800000</td>\n",
              "      <td>josephnceba njabulo mkholo africafactszone lol...</td>\n",
              "    </tr>\n",
              "    <tr>\n",
              "      <th>129</th>\n",
              "      <td>0.800000</td>\n",
              "      <td>great think india become great economy</td>\n",
              "    </tr>\n",
              "    <tr>\n",
              "      <th>922</th>\n",
              "      <td>0.800000</td>\n",
              "      <td>god bless india great country whose pm modi mu...</td>\n",
              "    </tr>\n",
              "    <tr>\n",
              "      <th>211</th>\n",
              "      <td>0.800000</td>\n",
              "      <td>narendramodi happy birthday sir keep rocking w...</td>\n",
              "    </tr>\n",
              "    <tr>\n",
              "      <th>580</th>\n",
              "      <td>0.800000</td>\n",
              "      <td>pot hole government deliver gobernance citizen...</td>\n",
              "    </tr>\n",
              "    <tr>\n",
              "      <th>19</th>\n",
              "      <td>0.800000</td>\n",
              "      <td>economy discuss everything force one language ...</td>\n",
              "    </tr>\n",
              "    <tr>\n",
              "      <th>203</th>\n",
              "      <td>0.800000</td>\n",
              "      <td>majorgauravarya imrankhanpti modi sabka saath ...</td>\n",
              "    </tr>\n",
              "    <tr>\n",
              "      <th>664</th>\n",
              "      <td>0.800000</td>\n",
              "      <td>olympian gandhi great ask king n pm concentrat...</td>\n",
              "    </tr>\n",
              "    <tr>\n",
              "      <th>751</th>\n",
              "      <td>0.800000</td>\n",
              "      <td>mahereqalb timesnow u must studied madarse pak...</td>\n",
              "    </tr>\n",
              "    <tr>\n",
              "      <th>618</th>\n",
              "      <td>0.800000</td>\n",
              "      <td>great effort tons gold reached england britain...</td>\n",
              "    </tr>\n",
              "    <tr>\n",
              "      <th>123</th>\n",
              "      <td>0.800000</td>\n",
              "      <td>know imrankhanpti n bajawa also knows win war ...</td>\n",
              "    </tr>\n",
              "    <tr>\n",
              "      <th>90</th>\n",
              "      <td>0.750000</td>\n",
              "      <td>bjp agenda one nation one language successful ...</td>\n",
              "    </tr>\n",
              "    <tr>\n",
              "      <th>798</th>\n",
              "      <td>0.700000</td>\n",
              "      <td>bit bright news indian economy rbi reports bn ...</td>\n",
              "    </tr>\n",
              "    <tr>\n",
              "      <th>145</th>\n",
              "      <td>0.700000</td>\n",
              "      <td>ssharadmohhan sir moreland india death akbar g...</td>\n",
              "    </tr>\n",
              "    <tr>\n",
              "      <th>26</th>\n",
              "      <td>0.700000</td>\n",
              "      <td>hope something good comest rhetoric nsitharama...</td>\n",
              "    </tr>\n",
              "    <tr>\n",
              "      <th>880</th>\n",
              "      <td>0.700000</td>\n",
              "      <td>karthiknilange astitvam ctravi bjp good answer...</td>\n",
              "    </tr>\n",
              "    <tr>\n",
              "      <th>525</th>\n",
              "      <td>0.700000</td>\n",
              "      <td>reasons ecommerce good indian economy ecom bri...</td>\n",
              "    </tr>\n",
              "    <tr>\n",
              "      <th>637</th>\n",
              "      <td>0.700000</td>\n",
              "      <td>butaliaajs ndtvprofit ndtv forego good price h...</td>\n",
              "    </tr>\n",
              "    <tr>\n",
              "      <th>409</th>\n",
              "      <td>0.700000</td>\n",
              "      <td>drthomasisaac status kerala highlight somethin...</td>\n",
              "    </tr>\n",
              "    <tr>\n",
              "      <th>175</th>\n",
              "      <td>0.700000</td>\n",
              "      <td>fauji manmoji fawadchaudhry world thinking ach...</td>\n",
              "    </tr>\n",
              "    <tr>\n",
              "      <th>215</th>\n",
              "      <td>0.700000</td>\n",
              "      <td>ashwinkiing swamy financialxpress inflation go...</td>\n",
              "    </tr>\n",
              "    <tr>\n",
              "      <th>995</th>\n",
              "      <td>0.700000</td>\n",
              "      <td>nsitharaman narendramodi bjp india amitshah my...</td>\n",
              "    </tr>\n",
              "    <tr>\n",
              "      <th>680</th>\n",
              "      <td>0.700000</td>\n",
              "      <td>arun srmcp boopathisarves niranjan compare sup...</td>\n",
              "    </tr>\n",
              "    <tr>\n",
              "      <th>...</th>\n",
              "      <td>...</td>\n",
              "      <td>...</td>\n",
              "    </tr>\n",
              "    <tr>\n",
              "      <th>138</th>\n",
              "      <td>-0.500000</td>\n",
              "      <td>tvmohandaspai nsitharaman pmoindia narendramod...</td>\n",
              "    </tr>\n",
              "    <tr>\n",
              "      <th>890</th>\n",
              "      <td>-0.525000</td>\n",
              "      <td>ahmermkhan nidhi people arrested kerala expect...</td>\n",
              "    </tr>\n",
              "    <tr>\n",
              "      <th>682</th>\n",
              "      <td>-0.600000</td>\n",
              "      <td>piyush goyal admits einstein faux pas says afr...</td>\n",
              "    </tr>\n",
              "    <tr>\n",
              "      <th>256</th>\n",
              "      <td>-0.600000</td>\n",
              "      <td>people india unhappy modi economy breakingnews...</td>\n",
              "    </tr>\n",
              "    <tr>\n",
              "      <th>613</th>\n",
              "      <td>-0.600000</td>\n",
              "      <td>piyush goyal admits einstein faux pas says afr...</td>\n",
              "    </tr>\n",
              "    <tr>\n",
              "      <th>871</th>\n",
              "      <td>-0.600000</td>\n",
              "      <td>india economy suffers car crash pain spreads v...</td>\n",
              "    </tr>\n",
              "    <tr>\n",
              "      <th>762</th>\n",
              "      <td>-0.600000</td>\n",
              "      <td>since tories fucking gig economy going start w...</td>\n",
              "    </tr>\n",
              "    <tr>\n",
              "      <th>562</th>\n",
              "      <td>-0.600000</td>\n",
              "      <td>cchukudebelu west afraid cause economy hegemon...</td>\n",
              "    </tr>\n",
              "    <tr>\n",
              "      <th>261</th>\n",
              "      <td>-0.600000</td>\n",
              "      <td>people india unhappy gst breakingnews breaking...</td>\n",
              "    </tr>\n",
              "    <tr>\n",
              "      <th>971</th>\n",
              "      <td>-0.600000</td>\n",
              "      <td>mandate misused abused dangerous fashion sonia...</td>\n",
              "    </tr>\n",
              "    <tr>\n",
              "      <th>617</th>\n",
              "      <td>-0.633333</td>\n",
              "      <td>else could shameful disastrous situation get e...</td>\n",
              "    </tr>\n",
              "    <tr>\n",
              "      <th>437</th>\n",
              "      <td>-0.650000</td>\n",
              "      <td>eu gone negative rates recessioniscoming china...</td>\n",
              "    </tr>\n",
              "    <tr>\n",
              "      <th>174</th>\n",
              "      <td>-0.700000</td>\n",
              "      <td>one look economy battlefield would seem india ...</td>\n",
              "    </tr>\n",
              "    <tr>\n",
              "      <th>601</th>\n",
              "      <td>-0.700000</td>\n",
              "      <td>forwardmarch maleehahashmey ohho looks like so...</td>\n",
              "    </tr>\n",
              "    <tr>\n",
              "      <th>255</th>\n",
              "      <td>-0.700000</td>\n",
              "      <td>finance minister remove hurdles revive economy...</td>\n",
              "    </tr>\n",
              "    <tr>\n",
              "      <th>708</th>\n",
              "      <td>-0.700000</td>\n",
              "      <td>trudeau sympathy khalistani separatism almost ...</td>\n",
              "    </tr>\n",
              "    <tr>\n",
              "      <th>370</th>\n",
              "      <td>-0.700000</td>\n",
              "      <td>edmarkey aoc must desperate hey moron us accou...</td>\n",
              "    </tr>\n",
              "    <tr>\n",
              "      <th>473</th>\n",
              "      <td>-0.700000</td>\n",
              "      <td>happens lot places instance india economy suff...</td>\n",
              "    </tr>\n",
              "    <tr>\n",
              "      <th>378</th>\n",
              "      <td>-0.750000</td>\n",
              "      <td>rahulgandhi mms another puppet worst economy r...</td>\n",
              "    </tr>\n",
              "    <tr>\n",
              "      <th>487</th>\n",
              "      <td>-0.750000</td>\n",
              "      <td>lufthansa india greatly disappointed seat paid...</td>\n",
              "    </tr>\n",
              "    <tr>\n",
              "      <th>96</th>\n",
              "      <td>-0.800000</td>\n",
              "      <td>hate millennials buying cars driving india eco...</td>\n",
              "    </tr>\n",
              "    <tr>\n",
              "      <th>83</th>\n",
              "      <td>-0.800000</td>\n",
              "      <td>hate millennials buying cars driving india eco...</td>\n",
              "    </tr>\n",
              "    <tr>\n",
              "      <th>92</th>\n",
              "      <td>-0.800000</td>\n",
              "      <td>hate millennials buying cars driving india eco...</td>\n",
              "    </tr>\n",
              "    <tr>\n",
              "      <th>981</th>\n",
              "      <td>-0.800000</td>\n",
              "      <td>aajtak sardanarohit idiot started draconian fi...</td>\n",
              "    </tr>\n",
              "    <tr>\n",
              "      <th>9</th>\n",
              "      <td>-0.800000</td>\n",
              "      <td>hate millennials millennials driving force ind...</td>\n",
              "    </tr>\n",
              "    <tr>\n",
              "      <th>227</th>\n",
              "      <td>-0.800000</td>\n",
              "      <td>ahmermkhan kashmiris morons listen mainstream ...</td>\n",
              "    </tr>\n",
              "    <tr>\n",
              "      <th>733</th>\n",
              "      <td>-0.800000</td>\n",
              "      <td>zainabsikander see spread poison hate relating...</td>\n",
              "    </tr>\n",
              "    <tr>\n",
              "      <th>84</th>\n",
              "      <td>-0.800000</td>\n",
              "      <td>hate millennials buying cars driving india eco...</td>\n",
              "    </tr>\n",
              "    <tr>\n",
              "      <th>59</th>\n",
              "      <td>-0.850000</td>\n",
              "      <td>narendramodi sir please look economy going bad...</td>\n",
              "    </tr>\n",
              "    <tr>\n",
              "      <th>400</th>\n",
              "      <td>-1.000000</td>\n",
              "      <td>tleehumphrey baletown crawl may hysterical pip...</td>\n",
              "    </tr>\n",
              "  </tbody>\n",
              "</table>\n",
              "<p>1000 rows × 2 columns</p>\n",
              "</div>"
            ],
            "text/plain": [
              "     Polarity                                         Tweet_Text\n",
              "941  1.000000  itc best company india going economy india fin...\n",
              "424  1.000000  nandtara best please vote bjp coming election ...\n",
              "993  1.000000            thinking india economy rising excellent\n",
              "131  1.000000  even indian gdp grows cagr would awesome india...\n",
              "321  1.000000  feeling concerned economy government india try...\n",
              "56   0.933333  rsprasad india must determine best economy bil...\n",
              "54   0.900000  piyushgoyal narendramodi india must determine ...\n",
              "513  0.800000  josephnceba njabulo mkholo africafactszone lol...\n",
              "129  0.800000             great think india become great economy\n",
              "922  0.800000  god bless india great country whose pm modi mu...\n",
              "211  0.800000  narendramodi happy birthday sir keep rocking w...\n",
              "580  0.800000  pot hole government deliver gobernance citizen...\n",
              "19   0.800000  economy discuss everything force one language ...\n",
              "203  0.800000  majorgauravarya imrankhanpti modi sabka saath ...\n",
              "664  0.800000  olympian gandhi great ask king n pm concentrat...\n",
              "751  0.800000  mahereqalb timesnow u must studied madarse pak...\n",
              "618  0.800000  great effort tons gold reached england britain...\n",
              "123  0.800000  know imrankhanpti n bajawa also knows win war ...\n",
              "90   0.750000  bjp agenda one nation one language successful ...\n",
              "798  0.700000  bit bright news indian economy rbi reports bn ...\n",
              "145  0.700000  ssharadmohhan sir moreland india death akbar g...\n",
              "26   0.700000  hope something good comest rhetoric nsitharama...\n",
              "880  0.700000  karthiknilange astitvam ctravi bjp good answer...\n",
              "525  0.700000  reasons ecommerce good indian economy ecom bri...\n",
              "637  0.700000  butaliaajs ndtvprofit ndtv forego good price h...\n",
              "409  0.700000  drthomasisaac status kerala highlight somethin...\n",
              "175  0.700000  fauji manmoji fawadchaudhry world thinking ach...\n",
              "215  0.700000  ashwinkiing swamy financialxpress inflation go...\n",
              "995  0.700000  nsitharaman narendramodi bjp india amitshah my...\n",
              "680  0.700000  arun srmcp boopathisarves niranjan compare sup...\n",
              "..        ...                                                ...\n",
              "138 -0.500000  tvmohandaspai nsitharaman pmoindia narendramod...\n",
              "890 -0.525000  ahmermkhan nidhi people arrested kerala expect...\n",
              "682 -0.600000  piyush goyal admits einstein faux pas says afr...\n",
              "256 -0.600000  people india unhappy modi economy breakingnews...\n",
              "613 -0.600000  piyush goyal admits einstein faux pas says afr...\n",
              "871 -0.600000  india economy suffers car crash pain spreads v...\n",
              "762 -0.600000  since tories fucking gig economy going start w...\n",
              "562 -0.600000  cchukudebelu west afraid cause economy hegemon...\n",
              "261 -0.600000  people india unhappy gst breakingnews breaking...\n",
              "971 -0.600000  mandate misused abused dangerous fashion sonia...\n",
              "617 -0.633333  else could shameful disastrous situation get e...\n",
              "437 -0.650000  eu gone negative rates recessioniscoming china...\n",
              "174 -0.700000  one look economy battlefield would seem india ...\n",
              "601 -0.700000  forwardmarch maleehahashmey ohho looks like so...\n",
              "255 -0.700000  finance minister remove hurdles revive economy...\n",
              "708 -0.700000  trudeau sympathy khalistani separatism almost ...\n",
              "370 -0.700000  edmarkey aoc must desperate hey moron us accou...\n",
              "473 -0.700000  happens lot places instance india economy suff...\n",
              "378 -0.750000  rahulgandhi mms another puppet worst economy r...\n",
              "487 -0.750000  lufthansa india greatly disappointed seat paid...\n",
              "96  -0.800000  hate millennials buying cars driving india eco...\n",
              "83  -0.800000  hate millennials buying cars driving india eco...\n",
              "92  -0.800000  hate millennials buying cars driving india eco...\n",
              "981 -0.800000  aajtak sardanarohit idiot started draconian fi...\n",
              "9   -0.800000  hate millennials millennials driving force ind...\n",
              "227 -0.800000  ahmermkhan kashmiris morons listen mainstream ...\n",
              "733 -0.800000  zainabsikander see spread poison hate relating...\n",
              "84  -0.800000  hate millennials buying cars driving india eco...\n",
              "59  -0.850000  narendramodi sir please look economy going bad...\n",
              "400 -1.000000  tleehumphrey baletown crawl may hysterical pip...\n",
              "\n",
              "[1000 rows x 2 columns]"
            ]
          },
          "metadata": {
            "tags": []
          },
          "execution_count": 80
        }
      ]
    },
    {
      "cell_type": "code",
      "metadata": {
        "id": "DfNouAOPXlbn",
        "colab_type": "code",
        "colab": {
          "base_uri": "https://localhost:8080/",
          "height": 641
        },
        "outputId": "d8583994-915d-4fd3-a391-1f9320f8d3fc"
      },
      "source": [
        "# Plot sentiment of tweets in the form of Histogram\n",
        "\n",
        "fig,ax=plt.subplots(figsize=(15,10))\n",
        "\n",
        "#plot histogram of the polarity values\n",
        "sentiment_df.hist(bins=[-1,-0.75,-0.5,-0.25,0.25,0.5,0.75,1],ax=ax,color=\"#CD7F32\")\n",
        "plt.title(\"Sentiments Distribution on India Economy\")\n",
        "plt.show()"
      ],
      "execution_count": 81,
      "outputs": [
        {
          "output_type": "execute_result",
          "data": {
            "text/plain": [
              "array([<matplotlib.axes._subplots.AxesSubplot object at 0x7f8ad59a0f60>],\n",
              "      dtype=object)"
            ]
          },
          "metadata": {
            "tags": []
          },
          "execution_count": 81
        },
        {
          "output_type": "execute_result",
          "data": {
            "text/plain": [
              "Text(0.5, 1.0, 'Sentiments Distribution on India Economy')"
            ]
          },
          "metadata": {
            "tags": []
          },
          "execution_count": 81
        },
        {
          "output_type": "display_data",
          "data": {
            "image/png": "[encoded data removed]",
            "text/plain": [
              "<Figure size 1080x720 with 1 Axes>"
            ]
          },
          "metadata": {
            "tags": []
          }
        }
      ]
    },
    {
      "cell_type": "code",
      "metadata": {
        "id": "uJ0EZV0dXlXL",
        "colab_type": "code",
        "colab": {}
      },
      "source": [
        ""
      ],
      "execution_count": 0,
      "outputs": []
    }
  ]
}