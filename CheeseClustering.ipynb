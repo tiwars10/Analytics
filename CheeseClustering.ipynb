{
 "cells": [
  {
   "cell_type": "code",
   "execution_count": 1,
   "metadata": {},
   "outputs": [],
   "source": [
    "#print many statements at same time using the below command\n",
    "from IPython.core.interactiveshell import InteractiveShell\n",
    "InteractiveShell.ast_node_interactivity=\"all\""
   ]
  },
  {
   "cell_type": "code",
   "execution_count": 2,
   "metadata": {},
   "outputs": [],
   "source": [
    "import pandas as pd\n",
    "from matplotlib import pyplot as plt\n",
    "import collections\n",
    "import warnings\n",
    "import pandas_profiling\n",
    "import numpy as np\n",
    "import seaborn as sns\n",
    "import sklearn\n",
    "from sklearn import metrics\n",
    "\n"
   ]
  },
  {
   "cell_type": "code",
   "execution_count": 14,
   "metadata": {},
   "outputs": [],
   "source": [
    "from sklearn.model_selection import train_test_split\n",
    "from sklearn.preprocessing import MinMaxScaler"
   ]
  },
  {
   "cell_type": "code",
   "execution_count": 7,
   "metadata": {},
   "outputs": [],
   "source": [
    "df = pd.read_csv(\"D:\\Module3_RP\\Session1\\cheese.csv\", sep = ',')"
   ]
  },
  {
   "cell_type": "code",
   "execution_count": 9,
   "metadata": {},
   "outputs": [
    {
     "data": {
      "text/html": [
       "<div>\n",
       "<style scoped>\n",
       "    .dataframe tbody tr th:only-of-type {\n",
       "        vertical-align: middle;\n",
       "    }\n",
       "\n",
       "    .dataframe tbody tr th {\n",
       "        vertical-align: top;\n",
       "    }\n",
       "\n",
       "    .dataframe thead th {\n",
       "        text-align: right;\n",
       "    }\n",
       "</style>\n",
       "<table border=\"1\" class=\"dataframe\">\n",
       "  <thead>\n",
       "    <tr style=\"text-align: right;\">\n",
       "      <th></th>\n",
       "      <th>Unnamed: 0</th>\n",
       "      <th>RETAILER</th>\n",
       "      <th>VOLUME</th>\n",
       "      <th>DISP</th>\n",
       "      <th>PRICE</th>\n",
       "    </tr>\n",
       "  </thead>\n",
       "  <tbody>\n",
       "    <tr>\n",
       "      <th>0</th>\n",
       "      <td>1</td>\n",
       "      <td>LOS ANGELES - LUCKY</td>\n",
       "      <td>21374</td>\n",
       "      <td>0.162000</td>\n",
       "      <td>2.578460</td>\n",
       "    </tr>\n",
       "    <tr>\n",
       "      <th>1</th>\n",
       "      <td>2</td>\n",
       "      <td>LOS ANGELES - RALPHS</td>\n",
       "      <td>6427</td>\n",
       "      <td>0.124113</td>\n",
       "      <td>3.727867</td>\n",
       "    </tr>\n",
       "    <tr>\n",
       "      <th>2</th>\n",
       "      <td>3</td>\n",
       "      <td>LOS ANGELES - VONS</td>\n",
       "      <td>17302</td>\n",
       "      <td>0.102000</td>\n",
       "      <td>2.711421</td>\n",
       "    </tr>\n",
       "    <tr>\n",
       "      <th>3</th>\n",
       "      <td>4</td>\n",
       "      <td>CHICAGO - DOMINICK</td>\n",
       "      <td>13561</td>\n",
       "      <td>0.027591</td>\n",
       "      <td>2.651206</td>\n",
       "    </tr>\n",
       "    <tr>\n",
       "      <th>4</th>\n",
       "      <td>5</td>\n",
       "      <td>CHICAGO - JEWEL</td>\n",
       "      <td>42774</td>\n",
       "      <td>0.090613</td>\n",
       "      <td>1.986674</td>\n",
       "    </tr>\n",
       "  </tbody>\n",
       "</table>\n",
       "</div>"
      ],
      "text/plain": [
       "   Unnamed: 0              RETAILER  VOLUME      DISP     PRICE\n",
       "0           1   LOS ANGELES - LUCKY   21374  0.162000  2.578460\n",
       "1           2  LOS ANGELES - RALPHS    6427  0.124113  3.727867\n",
       "2           3    LOS ANGELES - VONS   17302  0.102000  2.711421\n",
       "3           4    CHICAGO - DOMINICK   13561  0.027591  2.651206\n",
       "4           5       CHICAGO - JEWEL   42774  0.090613  1.986674"
      ]
     },
     "execution_count": 9,
     "metadata": {},
     "output_type": "execute_result"
    },
    {
     "data": {
      "text/plain": [
       "(5555, 5)"
      ]
     },
     "execution_count": 9,
     "metadata": {},
     "output_type": "execute_result"
    }
   ],
   "source": [
    "df.head()\n",
    "df.shape"
   ]
  },
  {
   "cell_type": "code",
   "execution_count": 11,
   "metadata": {},
   "outputs": [
    {
     "data": {
      "text/html": [
       "<div>\n",
       "<style scoped>\n",
       "    .dataframe tbody tr th:only-of-type {\n",
       "        vertical-align: middle;\n",
       "    }\n",
       "\n",
       "    .dataframe tbody tr th {\n",
       "        vertical-align: top;\n",
       "    }\n",
       "\n",
       "    .dataframe thead th {\n",
       "        text-align: right;\n",
       "    }\n",
       "</style>\n",
       "<table border=\"1\" class=\"dataframe\">\n",
       "  <thead>\n",
       "    <tr style=\"text-align: right;\">\n",
       "      <th></th>\n",
       "      <th>DISP</th>\n",
       "      <th>PRICE</th>\n",
       "      <th>VOLUME</th>\n",
       "    </tr>\n",
       "    <tr>\n",
       "      <th>RETAILER</th>\n",
       "      <th></th>\n",
       "      <th></th>\n",
       "      <th></th>\n",
       "    </tr>\n",
       "  </thead>\n",
       "  <tbody>\n",
       "    <tr>\n",
       "      <th>ALBANY,NY - PRICE CHOPPER</th>\n",
       "      <td>0.000000</td>\n",
       "      <td>2.864821</td>\n",
       "      <td>717.0</td>\n",
       "    </tr>\n",
       "    <tr>\n",
       "      <th>ATLANTA - KROGER CO</th>\n",
       "      <td>0.030872</td>\n",
       "      <td>2.701700</td>\n",
       "      <td>4455.0</td>\n",
       "    </tr>\n",
       "    <tr>\n",
       "      <th>ATLANTA - WINN DIXIE</th>\n",
       "      <td>0.000000</td>\n",
       "      <td>2.692330</td>\n",
       "      <td>2848.0</td>\n",
       "    </tr>\n",
       "    <tr>\n",
       "      <th>BALTI/WASH - GIANT FOOD INC</th>\n",
       "      <td>0.000000</td>\n",
       "      <td>3.783658</td>\n",
       "      <td>4337.0</td>\n",
       "    </tr>\n",
       "    <tr>\n",
       "      <th>BALTI/WASH - SAFEWAY</th>\n",
       "      <td>0.000000</td>\n",
       "      <td>3.987125</td>\n",
       "      <td>3832.0</td>\n",
       "    </tr>\n",
       "  </tbody>\n",
       "</table>\n",
       "</div>"
      ],
      "text/plain": [
       "                                 DISP     PRICE  VOLUME\n",
       "RETAILER                                               \n",
       "ALBANY,NY - PRICE CHOPPER    0.000000  2.864821   717.0\n",
       "ATLANTA - KROGER CO          0.030872  2.701700  4455.0\n",
       "ATLANTA - WINN DIXIE         0.000000  2.692330  2848.0\n",
       "BALTI/WASH - GIANT FOOD INC  0.000000  3.783658  4337.0\n",
       "BALTI/WASH - SAFEWAY         0.000000  3.987125  3832.0"
      ]
     },
     "execution_count": 11,
     "metadata": {},
     "output_type": "execute_result"
    },
    {
     "data": {
      "text/plain": [
       "(88, 3)"
      ]
     },
     "execution_count": 11,
     "metadata": {},
     "output_type": "execute_result"
    }
   ],
   "source": [
    "#Aggregate information at the store level\n",
    "df_pivot=pd.pivot_table(df,values=['VOLUME','DISP','PRICE'],index='RETAILER',aggfunc=np.median)\n",
    "df_pivot.head()\n",
    "df_pivot.shape"
   ]
  },
  {
   "cell_type": "code",
   "execution_count": 16,
   "metadata": {},
   "outputs": [],
   "source": [
    "#scale all values between0 and 1\n",
    "scld=MinMaxScaler(feature_range=(0,1))\n",
    "\n",
    "\n",
    "\n"
   ]
  },
  {
   "cell_type": "code",
   "execution_count": 17,
   "metadata": {},
   "outputs": [],
   "source": [
    "arr_scld=scld.fit_transform(df_pivot)\n"
   ]
  },
  {
   "cell_type": "code",
   "execution_count": 18,
   "metadata": {},
   "outputs": [
    {
     "data": {
      "text/plain": [
       "array([[0.        , 0.31890809, 0.01717571],\n",
       "       [0.073857  , 0.25029643, 0.28580668],\n",
       "       [0.        , 0.24635524, 0.1703198 ],\n",
       "       [0.        , 0.70538766, 0.27732663],\n",
       "       [0.        , 0.79096937, 0.24103485],\n",
       "       [0.        , 0.72229798, 0.04703557],\n",
       "       [0.48325359, 0.10874621, 0.70140137],\n",
       "       [0.        , 0.11776111, 0.10567733],\n",
       "       [0.06437654, 0.08032251, 0.33977722],\n",
       "       [0.        , 0.14304636, 0.15795904],\n",
       "       [0.        , 0.42798175, 0.01487603],\n",
       "       [0.        , 0.18108497, 0.14423284],\n",
       "       [0.16686603, 0.46144067, 0.1309019 ],\n",
       "       [0.36682616, 0.5178441 , 0.15950413],\n",
       "       [0.42344498, 0.11767846, 0.09256198],\n",
       "       [0.0579686 , 0.17433236, 0.26539705],\n",
       "       [0.        , 0.15815875, 0.0878189 ],\n",
       "       [0.42429865, 0.09545972, 0.17161337],\n",
       "       [0.46172249, 0.4426098 , 0.43564499],\n",
       "       [0.05350278, 0.43041608, 1.        ],\n",
       "       [0.        , 0.24299807, 0.21674452],\n",
       "       [0.26555024, 0.23002516, 0.4108516 ],\n",
       "       [0.064315  , 0.24569907, 0.20424003],\n",
       "       [0.1423445 , 0.25904024, 0.12773985],\n",
       "       [0.11067928, 0.11802378, 0.22939274],\n",
       "       [0.        , 0.4541238 , 0.23032699],\n",
       "       [0.06600156, 0.23008362, 0.21918793],\n",
       "       [0.17237685, 0.45429205, 0.19159181],\n",
       "       [0.32567748, 0.11232946, 0.12953647],\n",
       "       [0.27033493, 0.49496205, 0.36155228],\n",
       "       [0.06928133, 0.30839684, 0.37146964],\n",
       "       [0.        , 0.26511881, 0.28296802],\n",
       "       [0.4138756 , 0.18943887, 0.07725476],\n",
       "       [0.        , 0.52668633, 0.08760331],\n",
       "       [0.09536717, 0.24770753, 0.61451671],\n",
       "       [0.11004785, 0.49518539, 0.29543658],\n",
       "       [0.41866029, 0.22988614, 0.24272368],\n",
       "       [0.40487205, 0.14389559, 0.06115702],\n",
       "       [0.0320017 , 0.27670915, 0.08307582],\n",
       "       [0.        , 0.14305225, 0.19425081],\n",
       "       [0.10231275, 0.24124662, 0.11164211],\n",
       "       [0.27870813, 0.33466445, 0.89148401],\n",
       "       [0.76794258, 0.39820998, 0.44358606],\n",
       "       [0.06835393, 0.61862085, 0.4149479 ],\n",
       "       [0.14114833, 0.24183149, 0.1877111 ],\n",
       "       [0.29425837, 0.20720704, 0.10233561],\n",
       "       [0.05798806, 0.22722678, 0.68868128],\n",
       "       [0.        , 0.17155334, 0.56363636],\n",
       "       [0.        , 0.41930924, 0.09033417],\n",
       "       [0.5       , 0.07050045, 0.26938556],\n",
       "       [0.50837321, 0.        , 0.4337765 ],\n",
       "       [0.        , 0.21207149, 0.27689544],\n",
       "       [0.        , 0.96209725, 0.21922386],\n",
       "       [0.23914896, 0.95897164, 0.22069709],\n",
       "       [0.        , 1.        , 0.08472871],\n",
       "       [0.55432064, 0.15724832, 0.14372979],\n",
       "       [0.10287081, 0.15691709, 0.03363277],\n",
       "       [0.07177033, 0.26786523, 0.32597916],\n",
       "       [0.16775072, 0.15611497, 0.28789077],\n",
       "       [0.16267943, 0.64574126, 0.21890047],\n",
       "       [0.        , 0.62227602, 0.10571326],\n",
       "       [0.41626794, 0.56588164, 0.05472512],\n",
       "       [0.79186603, 0.50990282, 0.06007905],\n",
       "       [0.09580117, 0.49928747, 0.18131513],\n",
       "       [0.11008479, 0.17554416, 0.32296083],\n",
       "       [0.06299961, 0.16135503, 0.15350341],\n",
       "       [0.13482583, 0.16426991, 0.38677686],\n",
       "       [0.08683854, 0.22405764, 0.1406396 ],\n",
       "       [0.08035212, 0.21830253, 0.18778297],\n",
       "       [0.05301395, 0.15273825, 0.31645706],\n",
       "       [0.63995215, 0.69330855, 0.08357887],\n",
       "       [1.        , 0.39731301, 0.09105282],\n",
       "       [0.36124402, 0.39819967, 0.99971254],\n",
       "       [0.60526316, 0.3778041 , 0.34344233],\n",
       "       [0.74641148, 0.39802869, 0.10995329],\n",
       "       [0.22647528, 0.66167449, 0.46058211],\n",
       "       [0.75119617, 0.11778866, 0.54387352],\n",
       "       [0.        , 0.18074931, 0.24735897],\n",
       "       [0.54545455, 0.11776468, 0.2349982 ],\n",
       "       [0.26794258, 0.52708213, 0.14940711],\n",
       "       [0.15422771, 0.23566439, 0.5119655 ],\n",
       "       [0.33732057, 0.4516552 , 0.03959756],\n",
       "       [0.        , 0.30567755, 0.        ],\n",
       "       [0.54407461, 0.56899169, 0.02364355],\n",
       "       [0.        , 0.32428906, 0.23851958],\n",
       "       [0.08732057, 0.2787462 , 0.32648221],\n",
       "       [0.03448795, 0.20739337, 0.33711822],\n",
       "       [0.        , 0.53513403, 0.05098814]])"
      ]
     },
     "execution_count": 18,
     "metadata": {},
     "output_type": "execute_result"
    }
   ],
   "source": [
    "arr_scld"
   ]
  },
  {
   "cell_type": "code",
   "execution_count": 19,
   "metadata": {},
   "outputs": [],
   "source": [
    "df_scld=pd.DataFrame(arr_scld,columns=df_pivot.columns)\n"
   ]
  },
  {
   "cell_type": "code",
   "execution_count": 20,
   "metadata": {},
   "outputs": [
    {
     "data": {
      "text/html": [
       "<div>\n",
       "<style scoped>\n",
       "    .dataframe tbody tr th:only-of-type {\n",
       "        vertical-align: middle;\n",
       "    }\n",
       "\n",
       "    .dataframe tbody tr th {\n",
       "        vertical-align: top;\n",
       "    }\n",
       "\n",
       "    .dataframe thead th {\n",
       "        text-align: right;\n",
       "    }\n",
       "</style>\n",
       "<table border=\"1\" class=\"dataframe\">\n",
       "  <thead>\n",
       "    <tr style=\"text-align: right;\">\n",
       "      <th></th>\n",
       "      <th>DISP</th>\n",
       "      <th>PRICE</th>\n",
       "      <th>VOLUME</th>\n",
       "    </tr>\n",
       "  </thead>\n",
       "  <tbody>\n",
       "    <tr>\n",
       "      <th>0</th>\n",
       "      <td>0.000000</td>\n",
       "      <td>0.318908</td>\n",
       "      <td>0.017176</td>\n",
       "    </tr>\n",
       "    <tr>\n",
       "      <th>1</th>\n",
       "      <td>0.073857</td>\n",
       "      <td>0.250296</td>\n",
       "      <td>0.285807</td>\n",
       "    </tr>\n",
       "    <tr>\n",
       "      <th>2</th>\n",
       "      <td>0.000000</td>\n",
       "      <td>0.246355</td>\n",
       "      <td>0.170320</td>\n",
       "    </tr>\n",
       "    <tr>\n",
       "      <th>3</th>\n",
       "      <td>0.000000</td>\n",
       "      <td>0.705388</td>\n",
       "      <td>0.277327</td>\n",
       "    </tr>\n",
       "    <tr>\n",
       "      <th>4</th>\n",
       "      <td>0.000000</td>\n",
       "      <td>0.790969</td>\n",
       "      <td>0.241035</td>\n",
       "    </tr>\n",
       "  </tbody>\n",
       "</table>\n",
       "</div>"
      ],
      "text/plain": [
       "       DISP     PRICE    VOLUME\n",
       "0  0.000000  0.318908  0.017176\n",
       "1  0.073857  0.250296  0.285807\n",
       "2  0.000000  0.246355  0.170320\n",
       "3  0.000000  0.705388  0.277327\n",
       "4  0.000000  0.790969  0.241035"
      ]
     },
     "execution_count": 20,
     "metadata": {},
     "output_type": "execute_result"
    }
   ],
   "source": [
    "df_scld.head()\n"
   ]
  },
  {
   "cell_type": "code",
   "execution_count": 21,
   "metadata": {},
   "outputs": [
    {
     "data": {
      "text/html": [
       "<div>\n",
       "<style scoped>\n",
       "    .dataframe tbody tr th:only-of-type {\n",
       "        vertical-align: middle;\n",
       "    }\n",
       "\n",
       "    .dataframe tbody tr th {\n",
       "        vertical-align: top;\n",
       "    }\n",
       "\n",
       "    .dataframe thead th {\n",
       "        text-align: right;\n",
       "    }\n",
       "</style>\n",
       "<table border=\"1\" class=\"dataframe\">\n",
       "  <thead>\n",
       "    <tr style=\"text-align: right;\">\n",
       "      <th></th>\n",
       "      <th>DISP</th>\n",
       "      <th>PRICE</th>\n",
       "      <th>VOLUME</th>\n",
       "    </tr>\n",
       "  </thead>\n",
       "  <tbody>\n",
       "    <tr>\n",
       "      <th>count</th>\n",
       "      <td>88.000000</td>\n",
       "      <td>88.000000</td>\n",
       "      <td>88.000000</td>\n",
       "    </tr>\n",
       "    <tr>\n",
       "      <th>mean</th>\n",
       "      <td>0.201006</td>\n",
       "      <td>0.337239</td>\n",
       "      <td>0.252149</td>\n",
       "    </tr>\n",
       "    <tr>\n",
       "      <th>std</th>\n",
       "      <td>0.234245</td>\n",
       "      <td>0.214843</td>\n",
       "      <td>0.204063</td>\n",
       "    </tr>\n",
       "    <tr>\n",
       "      <th>min</th>\n",
       "      <td>0.000000</td>\n",
       "      <td>0.000000</td>\n",
       "      <td>0.000000</td>\n",
       "    </tr>\n",
       "    <tr>\n",
       "      <th>25%</th>\n",
       "      <td>0.000000</td>\n",
       "      <td>0.173638</td>\n",
       "      <td>0.105704</td>\n",
       "    </tr>\n",
       "    <tr>\n",
       "      <th>50%</th>\n",
       "      <td>0.099057</td>\n",
       "      <td>0.254668</td>\n",
       "      <td>0.217822</td>\n",
       "    </tr>\n",
       "    <tr>\n",
       "      <th>75%</th>\n",
       "      <td>0.343301</td>\n",
       "      <td>0.456079</td>\n",
       "      <td>0.326105</td>\n",
       "    </tr>\n",
       "    <tr>\n",
       "      <th>max</th>\n",
       "      <td>1.000000</td>\n",
       "      <td>1.000000</td>\n",
       "      <td>1.000000</td>\n",
       "    </tr>\n",
       "  </tbody>\n",
       "</table>\n",
       "</div>"
      ],
      "text/plain": [
       "            DISP      PRICE     VOLUME\n",
       "count  88.000000  88.000000  88.000000\n",
       "mean    0.201006   0.337239   0.252149\n",
       "std     0.234245   0.214843   0.204063\n",
       "min     0.000000   0.000000   0.000000\n",
       "25%     0.000000   0.173638   0.105704\n",
       "50%     0.099057   0.254668   0.217822\n",
       "75%     0.343301   0.456079   0.326105\n",
       "max     1.000000   1.000000   1.000000"
      ]
     },
     "execution_count": 21,
     "metadata": {},
     "output_type": "execute_result"
    },
    {
     "data": {
      "text/plain": [
       "(88, 3)"
      ]
     },
     "execution_count": 21,
     "metadata": {},
     "output_type": "execute_result"
    }
   ],
   "source": [
    "df_scld.describe()\n",
    "df_scld.shape"
   ]
  },
  {
   "cell_type": "code",
   "execution_count": 25,
   "metadata": {},
   "outputs": [
    {
     "data": {
      "text/plain": [
       "KMeans(algorithm='auto', copy_x=True, init='k-means++', max_iter=300,\n",
       "    n_clusters=2, n_init=10, n_jobs=None, precompute_distances='auto',\n",
       "    random_state=None, tol=0.0001, verbose=0)"
      ]
     },
     "execution_count": 25,
     "metadata": {},
     "output_type": "execute_result"
    },
    {
     "data": {
      "text/plain": [
       "KMeans(algorithm='auto', copy_x=True, init='k-means++', max_iter=300,\n",
       "    n_clusters=3, n_init=10, n_jobs=None, precompute_distances='auto',\n",
       "    random_state=None, tol=0.0001, verbose=0)"
      ]
     },
     "execution_count": 25,
     "metadata": {},
     "output_type": "execute_result"
    },
    {
     "data": {
      "text/plain": [
       "KMeans(algorithm='auto', copy_x=True, init='k-means++', max_iter=300,\n",
       "    n_clusters=4, n_init=10, n_jobs=None, precompute_distances='auto',\n",
       "    random_state=None, tol=0.0001, verbose=0)"
      ]
     },
     "execution_count": 25,
     "metadata": {},
     "output_type": "execute_result"
    },
    {
     "data": {
      "text/plain": [
       "KMeans(algorithm='auto', copy_x=True, init='k-means++', max_iter=300,\n",
       "    n_clusters=5, n_init=10, n_jobs=None, precompute_distances='auto',\n",
       "    random_state=None, tol=0.0001, verbose=0)"
      ]
     },
     "execution_count": 25,
     "metadata": {},
     "output_type": "execute_result"
    },
    {
     "data": {
      "text/plain": [
       "KMeans(algorithm='auto', copy_x=True, init='k-means++', max_iter=300,\n",
       "    n_clusters=6, n_init=10, n_jobs=None, precompute_distances='auto',\n",
       "    random_state=None, tol=0.0001, verbose=0)"
      ]
     },
     "execution_count": 25,
     "metadata": {},
     "output_type": "execute_result"
    },
    {
     "data": {
      "text/plain": [
       "KMeans(algorithm='auto', copy_x=True, init='k-means++', max_iter=300,\n",
       "    n_clusters=7, n_init=10, n_jobs=None, precompute_distances='auto',\n",
       "    random_state=None, tol=0.0001, verbose=0)"
      ]
     },
     "execution_count": 25,
     "metadata": {},
     "output_type": "execute_result"
    },
    {
     "data": {
      "text/plain": [
       "KMeans(algorithm='auto', copy_x=True, init='k-means++', max_iter=300,\n",
       "    n_clusters=8, n_init=10, n_jobs=None, precompute_distances='auto',\n",
       "    random_state=None, tol=0.0001, verbose=0)"
      ]
     },
     "execution_count": 25,
     "metadata": {},
     "output_type": "execute_result"
    },
    {
     "data": {
      "text/plain": [
       "KMeans(algorithm='auto', copy_x=True, init='k-means++', max_iter=300,\n",
       "    n_clusters=9, n_init=10, n_jobs=None, precompute_distances='auto',\n",
       "    random_state=None, tol=0.0001, verbose=0)"
      ]
     },
     "execution_count": 25,
     "metadata": {},
     "output_type": "execute_result"
    },
    {
     "data": {
      "text/html": [
       "<div>\n",
       "<style scoped>\n",
       "    .dataframe tbody tr th:only-of-type {\n",
       "        vertical-align: middle;\n",
       "    }\n",
       "\n",
       "    .dataframe tbody tr th {\n",
       "        vertical-align: top;\n",
       "    }\n",
       "\n",
       "    .dataframe thead th {\n",
       "        text-align: right;\n",
       "    }\n",
       "</style>\n",
       "<table border=\"1\" class=\"dataframe\">\n",
       "  <thead>\n",
       "    <tr style=\"text-align: right;\">\n",
       "      <th></th>\n",
       "      <th>Cluster_Numbers</th>\n",
       "      <th>Error_Term</th>\n",
       "    </tr>\n",
       "  </thead>\n",
       "  <tbody>\n",
       "    <tr>\n",
       "      <th>0</th>\n",
       "      <td>2</td>\n",
       "      <td>0.087082</td>\n",
       "    </tr>\n",
       "    <tr>\n",
       "      <th>1</th>\n",
       "      <td>3</td>\n",
       "      <td>0.063298</td>\n",
       "    </tr>\n",
       "    <tr>\n",
       "      <th>2</th>\n",
       "      <td>4</td>\n",
       "      <td>0.044102</td>\n",
       "    </tr>\n",
       "    <tr>\n",
       "      <th>3</th>\n",
       "      <td>5</td>\n",
       "      <td>0.035960</td>\n",
       "    </tr>\n",
       "    <tr>\n",
       "      <th>4</th>\n",
       "      <td>6</td>\n",
       "      <td>0.030617</td>\n",
       "    </tr>\n",
       "    <tr>\n",
       "      <th>5</th>\n",
       "      <td>7</td>\n",
       "      <td>0.026417</td>\n",
       "    </tr>\n",
       "    <tr>\n",
       "      <th>6</th>\n",
       "      <td>8</td>\n",
       "      <td>0.022785</td>\n",
       "    </tr>\n",
       "    <tr>\n",
       "      <th>7</th>\n",
       "      <td>9</td>\n",
       "      <td>0.020057</td>\n",
       "    </tr>\n",
       "  </tbody>\n",
       "</table>\n",
       "</div>"
      ],
      "text/plain": [
       "   Cluster_Numbers  Error_Term\n",
       "0                2    0.087082\n",
       "1                3    0.063298\n",
       "2                4    0.044102\n",
       "3                5    0.035960\n",
       "4                6    0.030617\n",
       "5                7    0.026417\n",
       "6                8    0.022785\n",
       "7                9    0.020057"
      ]
     },
     "execution_count": 25,
     "metadata": {},
     "output_type": "execute_result"
    }
   ],
   "source": [
    "#lets build clusters\n",
    "from sklearn.cluster import KMeans\n",
    "num_of_clusters= range(2,10)\n",
    "error=[]\n",
    "\n",
    "for num_clusters in num_of_clusters:\n",
    "    cluster=KMeans(num_clusters)\n",
    "    cluster.fit(df_scld)\n",
    "    error.append(cluster.inertia_/100)\n",
    "    \n",
    "df=pd.DataFrame({\"Cluster_Numbers\":num_of_clusters, \"Error_Term\":error})\n",
    "df"
   ]
  },
  {
   "cell_type": "code",
   "execution_count": 26,
   "metadata": {},
   "outputs": [
    {
     "data": {
      "text/plain": [
       "<Figure size 1080x720 with 0 Axes>"
      ]
     },
     "execution_count": 26,
     "metadata": {},
     "output_type": "execute_result"
    },
    {
     "data": {
      "text/plain": [
       "[<matplotlib.lines.Line2D at 0x204056369b0>]"
      ]
     },
     "execution_count": 26,
     "metadata": {},
     "output_type": "execute_result"
    },
    {
     "data": {
      "image/png": "[encoded data removed]",
      "text/plain": [
       "<Figure size 1080x720 with 1 Axes>"
      ]
     },
     "metadata": {
      "needs_background": "light"
     },
     "output_type": "display_data"
    }
   ],
   "source": [
    "#Find out the right number of clusters\n",
    "import matplotlib.pyplot as plt\n",
    "plt.figure(figsize=(15,10))\n",
    "plt.plot(df.Cluster_Numbers,df.Error_Term,marker=\"D\",color='red')\n",
    "plt.xlabel=('Number of Clusters')\n",
    "plt.ylabel=('SSE')\n",
    "plt.title=('Find the optimal number of clusters')\n",
    "plt.show()"
   ]
  },
  {
   "cell_type": "code",
   "execution_count": 29,
   "metadata": {},
   "outputs": [
    {
     "data": {
      "text/plain": [
       "KMeans(algorithm='auto', copy_x=True, init='k-means++', max_iter=300,\n",
       "    n_clusters=4, n_init=10, n_jobs=None, precompute_distances='auto',\n",
       "    random_state=None, tol=0.0001, verbose=0)"
      ]
     },
     "execution_count": 29,
     "metadata": {},
     "output_type": "execute_result"
    },
    {
     "data": {
      "text/plain": [
       "array([1, 1, 1, 0, 0, 0, 3, 1, 1, 1, 0, 1, 0, 0, 2, 1, 1, 2, 2, 3, 1, 1,\n",
       "       1, 1, 1, 0, 1, 0, 1, 0, 1, 1, 2, 0, 3, 0, 2, 2, 1, 1, 1, 3, 2, 0,\n",
       "       1, 1, 3, 3, 0, 2, 2, 1, 0, 0, 0, 2, 1, 1, 1, 0, 0, 0, 2, 0, 1, 1,\n",
       "       1, 1, 1, 1, 2, 2, 3, 2, 2, 0, 2, 1, 2, 0, 3, 0, 1, 2, 1, 1, 1, 0])"
      ]
     },
     "execution_count": 29,
     "metadata": {},
     "output_type": "execute_result"
    }
   ],
   "source": [
    "# Build with 4 Clusters\n",
    "cluster=KMeans(4)\n",
    "cluster.fit(df_scld)\n",
    "cluster.labels_"
   ]
  },
  {
   "cell_type": "code",
   "execution_count": 30,
   "metadata": {},
   "outputs": [],
   "source": [
    "df_pivot['cluster']=cluster.labels_"
   ]
  },
  {
   "cell_type": "code",
   "execution_count": 32,
   "metadata": {},
   "outputs": [
    {
     "data": {
      "text/html": [
       "<div>\n",
       "<style scoped>\n",
       "    .dataframe tbody tr th:only-of-type {\n",
       "        vertical-align: middle;\n",
       "    }\n",
       "\n",
       "    .dataframe tbody tr th {\n",
       "        vertical-align: top;\n",
       "    }\n",
       "\n",
       "    .dataframe thead th {\n",
       "        text-align: right;\n",
       "    }\n",
       "</style>\n",
       "<table border=\"1\" class=\"dataframe\">\n",
       "  <thead>\n",
       "    <tr style=\"text-align: right;\">\n",
       "      <th></th>\n",
       "      <th>DISP</th>\n",
       "      <th>PRICE</th>\n",
       "      <th>VOLUME</th>\n",
       "      <th>cluster</th>\n",
       "    </tr>\n",
       "    <tr>\n",
       "      <th>RETAILER</th>\n",
       "      <th></th>\n",
       "      <th></th>\n",
       "      <th></th>\n",
       "      <th></th>\n",
       "    </tr>\n",
       "  </thead>\n",
       "  <tbody>\n",
       "    <tr>\n",
       "      <th>ALBANY,NY - PRICE CHOPPER</th>\n",
       "      <td>0.000000</td>\n",
       "      <td>2.864821</td>\n",
       "      <td>717.0</td>\n",
       "      <td>1</td>\n",
       "    </tr>\n",
       "    <tr>\n",
       "      <th>ATLANTA - KROGER CO</th>\n",
       "      <td>0.030872</td>\n",
       "      <td>2.701700</td>\n",
       "      <td>4455.0</td>\n",
       "      <td>1</td>\n",
       "    </tr>\n",
       "    <tr>\n",
       "      <th>ATLANTA - WINN DIXIE</th>\n",
       "      <td>0.000000</td>\n",
       "      <td>2.692330</td>\n",
       "      <td>2848.0</td>\n",
       "      <td>1</td>\n",
       "    </tr>\n",
       "    <tr>\n",
       "      <th>BALTI/WASH - GIANT FOOD INC</th>\n",
       "      <td>0.000000</td>\n",
       "      <td>3.783658</td>\n",
       "      <td>4337.0</td>\n",
       "      <td>0</td>\n",
       "    </tr>\n",
       "    <tr>\n",
       "      <th>BALTI/WASH - SAFEWAY</th>\n",
       "      <td>0.000000</td>\n",
       "      <td>3.987125</td>\n",
       "      <td>3832.0</td>\n",
       "      <td>0</td>\n",
       "    </tr>\n",
       "  </tbody>\n",
       "</table>\n",
       "</div>"
      ],
      "text/plain": [
       "                                 DISP     PRICE  VOLUME  cluster\n",
       "RETAILER                                                        \n",
       "ALBANY,NY - PRICE CHOPPER    0.000000  2.864821   717.0        1\n",
       "ATLANTA - KROGER CO          0.030872  2.701700  4455.0        1\n",
       "ATLANTA - WINN DIXIE         0.000000  2.692330  2848.0        1\n",
       "BALTI/WASH - GIANT FOOD INC  0.000000  3.783658  4337.0        0\n",
       "BALTI/WASH - SAFEWAY         0.000000  3.987125  3832.0        0"
      ]
     },
     "execution_count": 32,
     "metadata": {},
     "output_type": "execute_result"
    }
   ],
   "source": [
    "df_pivot.head()"
   ]
  },
  {
   "cell_type": "code",
   "execution_count": 33,
   "metadata": {},
   "outputs": [
    {
     "data": {
      "text/html": [
       "<div>\n",
       "<style scoped>\n",
       "    .dataframe tbody tr th:only-of-type {\n",
       "        vertical-align: middle;\n",
       "    }\n",
       "\n",
       "    .dataframe tbody tr th {\n",
       "        vertical-align: top;\n",
       "    }\n",
       "\n",
       "    .dataframe thead th {\n",
       "        text-align: right;\n",
       "    }\n",
       "</style>\n",
       "<table border=\"1\" class=\"dataframe\">\n",
       "  <thead>\n",
       "    <tr style=\"text-align: right;\">\n",
       "      <th></th>\n",
       "      <th>DISP</th>\n",
       "      <th>PRICE</th>\n",
       "      <th>VOLUME</th>\n",
       "      <th>cluster</th>\n",
       "    </tr>\n",
       "    <tr>\n",
       "      <th>RETAILER</th>\n",
       "      <th></th>\n",
       "      <th></th>\n",
       "      <th></th>\n",
       "      <th></th>\n",
       "    </tr>\n",
       "  </thead>\n",
       "  <tbody>\n",
       "    <tr>\n",
       "      <th>SYRACUSE - WEGMANS</th>\n",
       "      <td>0.227423</td>\n",
       "      <td>3.459383</td>\n",
       "      <td>807.0</td>\n",
       "      <td>2</td>\n",
       "    </tr>\n",
       "    <tr>\n",
       "      <th>TAMPA/ST. PETE - KASH N KARRY</th>\n",
       "      <td>0.000000</td>\n",
       "      <td>2.877614</td>\n",
       "      <td>3797.0</td>\n",
       "      <td>1</td>\n",
       "    </tr>\n",
       "    <tr>\n",
       "      <th>TAMPA/ST. PETE - PUBLIX</th>\n",
       "      <td>0.036500</td>\n",
       "      <td>2.769338</td>\n",
       "      <td>5021.0</td>\n",
       "      <td>1</td>\n",
       "    </tr>\n",
       "    <tr>\n",
       "      <th>TAMPA/ST. PETE - WINN DIXIE</th>\n",
       "      <td>0.014416</td>\n",
       "      <td>2.599700</td>\n",
       "      <td>5169.0</td>\n",
       "      <td>1</td>\n",
       "    </tr>\n",
       "    <tr>\n",
       "      <th>WICHITA - DILLON COMPANIES</th>\n",
       "      <td>0.000000</td>\n",
       "      <td>3.378888</td>\n",
       "      <td>1187.5</td>\n",
       "      <td>0</td>\n",
       "    </tr>\n",
       "  </tbody>\n",
       "</table>\n",
       "</div>"
      ],
      "text/plain": [
       "                                   DISP     PRICE  VOLUME  cluster\n",
       "RETAILER                                                          \n",
       "SYRACUSE - WEGMANS             0.227423  3.459383   807.0        2\n",
       "TAMPA/ST. PETE - KASH N KARRY  0.000000  2.877614  3797.0        1\n",
       "TAMPA/ST. PETE - PUBLIX        0.036500  2.769338  5021.0        1\n",
       "TAMPA/ST. PETE - WINN DIXIE    0.014416  2.599700  5169.0        1\n",
       "WICHITA - DILLON COMPANIES     0.000000  3.378888  1187.5        0"
      ]
     },
     "execution_count": 33,
     "metadata": {},
     "output_type": "execute_result"
    }
   ],
   "source": [
    "df_pivot.tail()"
   ]
  },
  {
   "cell_type": "code",
   "execution_count": 34,
   "metadata": {},
   "outputs": [
    {
     "data": {
      "text/plain": [
       "(88, 4)"
      ]
     },
     "execution_count": 34,
     "metadata": {},
     "output_type": "execute_result"
    }
   ],
   "source": [
    "df_pivot.shape"
   ]
  },
  {
   "cell_type": "code",
   "execution_count": 36,
   "metadata": {},
   "outputs": [],
   "source": [
    "clust_profile=pd.pivot_table(df_pivot,values=['VOLUME','DISP','PRICE'],index='cluster',aggfunc=np.mean)"
   ]
  },
  {
   "cell_type": "code",
   "execution_count": 37,
   "metadata": {},
   "outputs": [
    {
     "data": {
      "text/html": [
       "<div>\n",
       "<style scoped>\n",
       "    .dataframe tbody tr th:only-of-type {\n",
       "        vertical-align: middle;\n",
       "    }\n",
       "\n",
       "    .dataframe tbody tr th {\n",
       "        vertical-align: top;\n",
       "    }\n",
       "\n",
       "    .dataframe thead th {\n",
       "        text-align: right;\n",
       "    }\n",
       "</style>\n",
       "<table border=\"1\" class=\"dataframe\">\n",
       "  <thead>\n",
       "    <tr style=\"text-align: right;\">\n",
       "      <th></th>\n",
       "      <th>DISP</th>\n",
       "      <th>PRICE</th>\n",
       "      <th>VOLUME</th>\n",
       "    </tr>\n",
       "    <tr>\n",
       "      <th>cluster</th>\n",
       "      <th></th>\n",
       "      <th></th>\n",
       "      <th></th>\n",
       "    </tr>\n",
       "  </thead>\n",
       "  <tbody>\n",
       "    <tr>\n",
       "      <th>0</th>\n",
       "      <td>0.05</td>\n",
       "      <td>3.54</td>\n",
       "      <td>2987.54</td>\n",
       "    </tr>\n",
       "    <tr>\n",
       "      <th>1</th>\n",
       "      <td>0.03</td>\n",
       "      <td>2.61</td>\n",
       "      <td>3417.47</td>\n",
       "    </tr>\n",
       "    <tr>\n",
       "      <th>2</th>\n",
       "      <td>0.24</td>\n",
       "      <td>2.77</td>\n",
       "      <td>3463.58</td>\n",
       "    </tr>\n",
       "    <tr>\n",
       "      <th>3</th>\n",
       "      <td>0.08</td>\n",
       "      <td>2.75</td>\n",
       "      <td>10864.50</td>\n",
       "    </tr>\n",
       "  </tbody>\n",
       "</table>\n",
       "</div>"
      ],
      "text/plain": [
       "         DISP  PRICE    VOLUME\n",
       "cluster                       \n",
       "0        0.05   3.54   2987.54\n",
       "1        0.03   2.61   3417.47\n",
       "2        0.24   2.77   3463.58\n",
       "3        0.08   2.75  10864.50"
      ]
     },
     "execution_count": 37,
     "metadata": {},
     "output_type": "execute_result"
    }
   ],
   "source": [
    "np.round(clust_profile,2)"
   ]
  },
  {
   "cell_type": "code",
   "execution_count": 38,
   "metadata": {},
   "outputs": [
    {
     "data": {
      "text/plain": [
       "cluster\n",
       "0    24\n",
       "1    38\n",
       "2    18\n",
       "3     8\n",
       "dtype: int64"
      ]
     },
     "execution_count": 38,
     "metadata": {},
     "output_type": "execute_result"
    }
   ],
   "source": [
    "df_pivot.groupby(\"cluster\").size()"
   ]
  },
  {
   "cell_type": "code",
   "execution_count": null,
   "metadata": {},
   "outputs": [],
   "source": []
  },
  {
   "cell_type": "code",
   "execution_count": null,
   "metadata": {},
   "outputs": [],
   "source": []
  },
  {
   "cell_type": "code",
   "execution_count": null,
   "metadata": {},
   "outputs": [],
   "source": []
  }
 ],
 "metadata": {
  "kernelspec": {
   "display_name": "Python 3",
   "language": "python",
   "name": "python3"
  },
  "language_info": {
   "codemirror_mode": {
    "name": "ipython",
    "version": 3
   },
   "file_extension": ".py",
   "mimetype": "text/x-python",
   "name": "python",
   "nbconvert_exporter": "python",
   "pygments_lexer": "ipython3",
   "version": "3.7.3"
  }
 },
 "nbformat": 4,
 "nbformat_minor": 2
}
